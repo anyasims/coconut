{
 "cells": [
  {
   "cell_type": "code",
   "execution_count": null,
   "metadata": {},
   "outputs": [],
   "source": []
  },
  {
   "cell_type": "code",
   "execution_count": 1,
   "metadata": {},
   "outputs": [],
   "source": [
    "import os\n",
    "import sys\n",
    "sys.path.append(os.path.abspath('/homes/80/anya/Documents/llm_tiny_ideas/super-tiny-lms-outer/super-tiny-lms'))"
   ]
  },
  {
   "cell_type": "code",
   "execution_count": 3,
   "metadata": {},
   "outputs": [
    {
     "name": "stdout",
     "output_type": "stream",
     "text": [
      "Original dataset: DatasetDict({\n",
      "    train: Dataset({\n",
      "        features: ['question', 'answer'],\n",
      "        num_rows: 7473\n",
      "    })\n",
      "    test: Dataset({\n",
      "        features: ['question', 'answer'],\n",
      "        num_rows: 1319\n",
      "    })\n",
      "})\n"
     ]
    },
    {
     "name": "stderr",
     "output_type": "stream",
     "text": [
      "Map: 100%|██████████| 7473/7473 [00:00<00:00, 41768.49 examples/s]\n",
      "Map: 100%|██████████| 1319/1319 [00:00<00:00, 48399.77 examples/s]\n"
     ]
    },
    {
     "name": "stdout",
     "output_type": "stream",
     "text": [
      "Processed dataset: DatasetDict({\n",
      "    train: Dataset({\n",
      "        features: ['question', 'answer', 'reasoning'],\n",
      "        num_rows: 7473\n",
      "    })\n",
      "    test: Dataset({\n",
      "        features: ['question', 'answer', 'reasoning'],\n",
      "        num_rows: 1319\n",
      "    })\n",
      "})\n"
     ]
    },
    {
     "name": "stderr",
     "output_type": "stream",
     "text": [
      "Saving the dataset (1/1 shards): 100%|██████████| 7473/7473 [00:00<00:00, 922371.66 examples/s]\n",
      "Saving the dataset (1/1 shards): 100%|██████████| 1319/1319 [00:00<00:00, 441629.04 examples/s]\n"
     ]
    }
   ],
   "source": [
    "from datasets import load_dataset\n",
    "\n",
    "# Load the gsm8k dataset from Hugging Face\n",
    "gsm8k = load_dataset(\"openai/gsm8k\", \"main\")\n",
    "print(f\"Original dataset: {gsm8k}\")\n",
    "\n",
    "instruction_following = \"Let's think step by step, concisely, and then output the final answer after \\\"Answer:\\\".\"\n",
    "\n",
    "def process(example):\n",
    "    # Append \"Think step by step.\" to the question\n",
    "    example[\"question\"] = example[\"question\"].strip() + \" \" + instruction_following\n",
    "    \n",
    "    # Split the answer on \"####\"\n",
    "    parts = example[\"answer\"].split(\"####\")\n",
    "    assert len(parts) == 2, f\"Expected 2 parts, but got {len(parts)} parts\"\n",
    "    # Add the new fields to the example\n",
    "    example[\"reasoning\"] = parts[0].strip()\n",
    "    example[\"answer\"] = parts[1].strip()\n",
    "    return example\n",
    "\n",
    "# Apply the processing function to each example in all splits (e.g., \"train\" and \"test\")\n",
    "gsm8k_processed = gsm8k.map(process)\n",
    "print(f\"Processed dataset: {gsm8k_processed}\")\n",
    "\n",
    "save_dir = \"/homes/80/anya/Documents/llm_tiny_ideas/coconut-outer/coconut/data/my_data/gsm8k\"\n",
    "gsm8k_processed.save_to_disk(save_dir)\n"
   ]
  },
  {
   "cell_type": "code",
   "execution_count": 5,
   "metadata": {},
   "outputs": [
    {
     "data": {
      "text/plain": [
       "{'question': 'Natalia sold clips to 48 of her friends in April, and then she sold half as many clips in May. How many clips did Natalia sell altogether in April and May? Let\\'s think step by step, concisely, and then output the final answer after \"Answer:\".',\n",
       " 'answer': '72',\n",
       " 'reasoning': 'Natalia sold 48/2 = <<48/2=24>>24 clips in May.\\nNatalia sold 48+24 = <<48+24=72>>72 clips altogether in April and May.'}"
      ]
     },
     "execution_count": 5,
     "metadata": {},
     "output_type": "execute_result"
    }
   ],
   "source": [
    "gsm8k_processed[\"train\"][0]"
   ]
  },
  {
   "cell_type": "code",
   "execution_count": null,
   "metadata": {},
   "outputs": [],
   "source": []
  }
 ],
 "metadata": {
  "kernelspec": {
   "display_name": "coconut-1",
   "language": "python",
   "name": "python3"
  },
  "language_info": {
   "codemirror_mode": {
    "name": "ipython",
    "version": 3
   },
   "file_extension": ".py",
   "mimetype": "text/x-python",
   "name": "python",
   "nbconvert_exporter": "python",
   "pygments_lexer": "ipython3",
   "version": "3.12.9"
  }
 },
 "nbformat": 4,
 "nbformat_minor": 2
}
