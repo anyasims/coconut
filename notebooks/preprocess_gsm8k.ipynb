{
 "cells": [
  {
   "cell_type": "code",
   "execution_count": null,
   "metadata": {},
   "outputs": [],
   "source": []
  },
  {
   "cell_type": "code",
   "execution_count": 1,
   "metadata": {},
   "outputs": [],
   "source": [
    "import os\n",
    "import sys\n",
    "sys.path.append(os.path.abspath('/homes/80/anya/Documents/llm_tiny_ideas/super-tiny-lms-outer/super-tiny-lms'))"
   ]
  },
  {
   "cell_type": "code",
   "execution_count": 4,
   "metadata": {},
   "outputs": [
    {
     "name": "stdout",
     "output_type": "stream",
     "text": [
      "Original dataset: DatasetDict({\n",
      "    train: Dataset({\n",
      "        features: ['question', 'answer'],\n",
      "        num_rows: 7473\n",
      "    })\n",
      "    test: Dataset({\n",
      "        features: ['question', 'answer'],\n",
      "        num_rows: 1319\n",
      "    })\n",
      "})\n",
      "Processed dataset: DatasetDict({\n",
      "    train: Dataset({\n",
      "        features: ['question', 'answer', 'reasoning'],\n",
      "        num_rows: 7473\n",
      "    })\n",
      "    test: Dataset({\n",
      "        features: ['question', 'answer', 'reasoning'],\n",
      "        num_rows: 1319\n",
      "    })\n",
      "})\n"
     ]
    },
    {
     "name": "stderr",
     "output_type": "stream",
     "text": [
      "Filter: 100%|██████████| 7473/7473 [00:00<00:00, 349817.90 examples/s]\n",
      "Filter: 100%|██████████| 1319/1319 [00:00<00:00, 267092.50 examples/s]\n"
     ]
    },
    {
     "name": "stdout",
     "output_type": "stream",
     "text": [
      "Filtered dataset: DatasetDict({\n",
      "    train: Dataset({\n",
      "        features: ['question', 'answer', 'reasoning'],\n",
      "        num_rows: 7470\n",
      "    })\n",
      "    test: Dataset({\n",
      "        features: ['question', 'answer', 'reasoning'],\n",
      "        num_rows: 1317\n",
      "    })\n",
      "})\n"
     ]
    },
    {
     "name": "stderr",
     "output_type": "stream",
     "text": [
      "Saving the dataset (1/1 shards): 100%|██████████| 7473/7473 [00:00<00:00, 338902.05 examples/s]\n",
      "Saving the dataset (1/1 shards): 100%|██████████| 1319/1319 [00:00<00:00, 233262.51 examples/s]\n"
     ]
    }
   ],
   "source": [
    "from datasets import load_dataset\n",
    "\n",
    "# Load the gsm8k dataset from Hugging Face\n",
    "gsm8k = load_dataset(\"openai/gsm8k\", \"main\")\n",
    "print(f\"Original dataset: {gsm8k}\")\n",
    "\n",
    "instruction_following = \"Let's think step by step, concisely, and then output the final answer after \\\"Answer:\\\".\"\n",
    "\n",
    "def process(example):\n",
    "    # Append \"Think step by step.\" to the question\n",
    "    example[\"question\"] = example[\"question\"].strip() + \" \" + instruction_following\n",
    "    \n",
    "    # Split the answer on \"####\"\n",
    "    parts = example[\"answer\"].split(\"####\")\n",
    "    assert len(parts) == 2, f\"Expected 2 parts, but got {len(parts)} parts\"\n",
    "    # Add the new fields to the example\n",
    "    example[\"reasoning\"] = parts[0].strip()\n",
    "    example[\"answer\"] = parts[1].strip().replace(\",\", \"\")\n",
    "    return example\n",
    "\n",
    "# Apply the processing function to each example in all splits (e.g., \"train\" and \"test\")\n",
    "gsm8k_processed = gsm8k.map(process)\n",
    "print(f\"Processed dataset: {gsm8k_processed}\")\n",
    "\n",
    "# Define a filtering function that keeps examples with digit-only answers\n",
    "def is_negative(example):\n",
    "    return not example[\"answer\"].startswith(\"-\")\n",
    "\n",
    "# Filter out examples where the answer is not purely digit-based\n",
    "gsm8k_filtered = gsm8k_processed.filter(is_negative)\n",
    "print(f\"Filtered dataset: {gsm8k_filtered}\")\n",
    "\n",
    "save_dir = \"/homes/80/anya/Documents/llm_tiny_ideas/coconut-outer/coconut/data/my_data/gsm8k\"\n",
    "gsm8k_processed.save_to_disk(save_dir)\n"
   ]
  },
  {
   "cell_type": "code",
   "execution_count": 11,
   "metadata": {},
   "outputs": [
    {
     "name": "stdout",
     "output_type": "stream",
     "text": [
      "72\n",
      "10\n",
      "5\n",
      "42\n",
      "624\n",
      "35\n",
      "48\n",
      "16\n",
      "41\n",
      "990\n",
      "121\n",
      "5\n",
      "85\n",
      "35\n",
      "5\n",
      "448000\n",
      "800\n",
      "43\n",
      "16\n",
      "16\n",
      "38\n",
      "1080\n",
      "7\n",
      "5\n",
      "62\n",
      "110\n",
      "400\n",
      "400\n",
      "8\n",
      "1000\n",
      "6\n",
      "1200\n",
      "10\n",
      "34\n",
      "5250\n",
      "36\n",
      "15\n",
      "5\n",
      "9\n",
      "15\n",
      "476\n",
      "500\n",
      "99\n",
      "60\n",
      "300\n",
      "99\n",
      "1920\n",
      "15\n",
      "10\n",
      "48\n",
      "5\n",
      "160\n",
      "5\n",
      "36\n",
      "11\n",
      "75\n",
      "45\n",
      "2\n",
      "320\n",
      "120\n",
      "96\n",
      "200\n",
      "15\n",
      "59\n",
      "840\n",
      "558\n",
      "520\n",
      "6\n",
      "90\n",
      "49\n",
      "19\n",
      "25\n",
      "54\n",
      "3\n",
      "28\n",
      "15\n",
      "768\n",
      "85\n",
      "4\n",
      "70\n",
      "100\n",
      "14\n",
      "700\n",
      "54\n",
      "90\n",
      "5\n",
      "6\n",
      "600\n",
      "258\n",
      "216\n",
      "90\n",
      "10\n",
      "1825\n",
      "14000\n",
      "60\n",
      "64\n",
      "126\n",
      "46\n",
      "45\n",
      "3\n"
     ]
    }
   ],
   "source": [
    "start = 0\n",
    "for i in range(start, start + 100):\n",
    "    print(gsm8k_processed[\"train\"][\"answer\"][i])"
   ]
  },
  {
   "cell_type": "code",
   "execution_count": null,
   "metadata": {},
   "outputs": [],
   "source": []
  }
 ],
 "metadata": {
  "kernelspec": {
   "display_name": "coconut-1",
   "language": "python",
   "name": "coconut-1"
  },
  "language_info": {
   "codemirror_mode": {
    "name": "ipython",
    "version": 3
   },
   "file_extension": ".py",
   "mimetype": "text/x-python",
   "name": "python",
   "nbconvert_exporter": "python",
   "pygments_lexer": "ipython3",
   "version": "3.12.9"
  }
 },
 "nbformat": 4,
 "nbformat_minor": 2
}
