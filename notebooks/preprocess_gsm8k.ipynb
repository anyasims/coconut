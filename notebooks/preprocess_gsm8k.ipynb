{
 "cells": [
  {
   "cell_type": "code",
   "execution_count": null,
   "metadata": {},
   "outputs": [],
   "source": []
  },
  {
   "cell_type": "code",
   "execution_count": 1,
   "metadata": {},
   "outputs": [],
   "source": [
    "import os\n",
    "import sys\n",
    "sys.path.append(os.path.abspath('/homes/80/anya/Documents/llm_tiny_ideas/super-tiny-lms-outer/super-tiny-lms'))"
   ]
  },
  {
   "cell_type": "code",
   "execution_count": 7,
   "metadata": {},
   "outputs": [
    {
     "name": "stdout",
     "output_type": "stream",
     "text": [
      "Original dataset: DatasetDict({\n",
      "    train: Dataset({\n",
      "        features: ['question', 'answer'],\n",
      "        num_rows: 7473\n",
      "    })\n",
      "    test: Dataset({\n",
      "        features: ['question', 'answer'],\n",
      "        num_rows: 1319\n",
      "    })\n",
      "})\n",
      "Processed dataset: DatasetDict({\n",
      "    train: Dataset({\n",
      "        features: ['question', 'answer', 'reasoning'],\n",
      "        num_rows: 7473\n",
      "    })\n",
      "    test: Dataset({\n",
      "        features: ['question', 'answer', 'reasoning'],\n",
      "        num_rows: 1319\n",
      "    })\n",
      "})\n",
      "Filtered dataset: DatasetDict({\n",
      "    train: Dataset({\n",
      "        features: ['question', 'answer', 'reasoning'],\n",
      "        num_rows: 7470\n",
      "    })\n",
      "    test: Dataset({\n",
      "        features: ['question', 'answer', 'reasoning'],\n",
      "        num_rows: 1317\n",
      "    })\n",
      "})\n"
     ]
    },
    {
     "name": "stderr",
     "output_type": "stream",
     "text": [
      "Saving the dataset (1/1 shards): 100%|██████████| 7473/7473 [00:00<00:00, 140614.22 examples/s]\n",
      "Saving the dataset (1/1 shards): 100%|██████████| 1319/1319 [00:00<00:00, 79751.57 examples/s]\n"
     ]
    }
   ],
   "source": [
    "from datasets import load_dataset\n",
    "\n",
    "# Load the gsm8k dataset from Hugging Face\n",
    "gsm8k = load_dataset(\"openai/gsm8k\", \"main\")\n",
    "print(f\"Original dataset: {gsm8k}\")\n",
    "\n",
    "instruction_following = \"Let's think step by step, concisely, and then output the final answer after \\\"Answer:\\\".\"\n",
    "\n",
    "def process(example):\n",
    "    # Append \"Think step by step.\" to the question\n",
    "    example[\"question\"] = example[\"question\"].strip() + \" \" + instruction_following\n",
    "    \n",
    "    # Split the answer on \"####\"\n",
    "    parts = example[\"answer\"].split(\"####\")\n",
    "    assert len(parts) == 2, f\"Expected 2 parts, but got {len(parts)} parts\"\n",
    "    # Add the new fields to the example\n",
    "    example[\"reasoning\"] = parts[0].strip()\n",
    "    example[\"answer\"] = parts[1].strip() #.replace(\",\", \"\")\n",
    "    return example\n",
    "\n",
    "# Apply the processing function to each example in all splits (e.g., \"train\" and \"test\")\n",
    "gsm8k_processed = gsm8k.map(process)\n",
    "print(f\"Processed dataset: {gsm8k_processed}\")\n",
    "\n",
    "# Define a filtering function that keeps examples with digit-only answers\n",
    "def is_negative(example):\n",
    "    return not example[\"answer\"].startswith(\"-\")\n",
    "\n",
    "# Filter out examples where the answer is not purely digit-based\n",
    "gsm8k_filtered = gsm8k_processed.filter(is_negative)\n",
    "print(f\"Filtered dataset: {gsm8k_filtered}\")\n",
    "\n",
    "save_dir = \"/homes/80/anya/Documents/llm_tiny_ideas/coconut-outer/coconut/data/my_data/gsm8k\"\n",
    "gsm8k_processed.save_to_disk(save_dir)\n"
   ]
  },
  {
   "cell_type": "code",
   "execution_count": 6,
   "metadata": {},
   "outputs": [
    {
     "name": "stdout",
     "output_type": "stream",
     "text": [
      "15,620\n",
      "9,492\n",
      "86,400\n",
      "2,520,000\n",
      "54,000\n",
      "885,000\n",
      "9,240\n",
      "28,800\n",
      "59,616\n",
      "27,000\n",
      "100,000\n",
      "3,380\n",
      "200,000\n",
      "3,890\n",
      "1,600\n",
      "150,000\n"
     ]
    }
   ],
   "source": [
    "start = 1000\n",
    "for i in range(start, start + 1000):\n",
    "    answer = gsm8k_processed[\"train\"][\"answer\"][i]\n",
    "    if len(answer.split(\",\")) > 1:\n",
    "        print(answer)"
   ]
  },
  {
   "cell_type": "code",
   "execution_count": null,
   "metadata": {},
   "outputs": [],
   "source": []
  }
 ],
 "metadata": {
  "kernelspec": {
   "display_name": "super-tiny-lms-1",
   "language": "python",
   "name": "super-tiny-lms-1"
  },
  "language_info": {
   "codemirror_mode": {
    "name": "ipython",
    "version": 3
   },
   "file_extension": ".py",
   "mimetype": "text/x-python",
   "name": "python",
   "nbconvert_exporter": "python",
   "pygments_lexer": "ipython3",
   "version": "3.10.16"
  }
 },
 "nbformat": 4,
 "nbformat_minor": 2
}
