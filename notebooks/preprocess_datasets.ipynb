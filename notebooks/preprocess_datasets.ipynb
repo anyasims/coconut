{
 "cells": [
  {
   "cell_type": "code",
   "execution_count": 1,
   "metadata": {},
   "outputs": [
    {
     "name": "stderr",
     "output_type": "stream",
     "text": [
      "/homes/80/anya/anaconda3/envs/coconut-1/lib/python3.12/site-packages/tqdm/auto.py:21: TqdmWarning: IProgress not found. Please update jupyter and ipywidgets. See https://ipywidgets.readthedocs.io/en/stable/user_install.html\n",
      "  from .autonotebook import tqdm as notebook_tqdm\n"
     ]
    }
   ],
   "source": [
    "import datasets\n",
    "\n",
    "save_dir = '/homes/80/anya/Documents/llm_tiny_ideas/coconut-outer/coconut/data/my_data'"
   ]
  },
  {
   "cell_type": "code",
   "execution_count": 2,
   "metadata": {},
   "outputs": [
    {
     "name": "stderr",
     "output_type": "stream",
     "text": [
      "Generating train split: 100%|██████████| 7273/7273 [00:00<00:00, 316795.33 examples/s]\n",
      "Generating validation split: 100%|██████████| 200/200 [00:00<00:00, 147142.75 examples/s]\n",
      "Generating test split: 100%|██████████| 1319/1319 [00:00<00:00, 387931.21 examples/s]\n",
      "Map: 100%|██████████| 7273/7273 [00:00<00:00, 39520.41 examples/s]\n",
      "Map: 100%|██████████| 200/200 [00:00<00:00, 27870.98 examples/s]\n",
      "Map: 100%|██████████| 1319/1319 [00:00<00:00, 38176.35 examples/s]\n",
      "Saving the dataset (1/1 shards): 100%|██████████| 7273/7273 [00:00<00:00, 920688.53 examples/s]\n",
      "Saving the dataset (1/1 shards): 100%|██████████| 200/200 [00:00<00:00, 109597.70 examples/s]\n",
      "Saving the dataset (1/1 shards): 100%|██████████| 1319/1319 [00:00<00:00, 511632.94 examples/s]\n",
      "Generating test split: 100%|██████████| 1000/1000 [00:00<00:00, 447487.89 examples/s]\n",
      "Map: 100%|██████████| 1000/1000 [00:00<00:00, 33575.65 examples/s]\n",
      "Saving the dataset (1/1 shards): 100%|██████████| 1000/1000 [00:00<00:00, 523764.24 examples/s]\n",
      "Generating train split: 100%|██████████| 1089/1089 [00:00<00:00, 403854.74 examples/s]\n",
      "Generating validation split: 100%|██████████| 1040/1040 [00:00<00:00, 537267.66 examples/s]\n",
      "Generating test split: 100%|██████████| 520/520 [00:00<00:00, 413310.23 examples/s]\n",
      "Map: 100%|██████████| 1089/1089 [00:00<00:00, 33628.79 examples/s]\n",
      "Map: 100%|██████████| 1040/1040 [00:00<00:00, 34084.31 examples/s]\n",
      "Map: 100%|██████████| 520/520 [00:00<00:00, 32422.63 examples/s]\n",
      "Saving the dataset (1/1 shards): 100%|██████████| 1089/1089 [00:00<00:00, 525857.36 examples/s]\n",
      "Saving the dataset (1/1 shards): 100%|██████████| 1040/1040 [00:00<00:00, 517753.85 examples/s]\n",
      "Saving the dataset (1/1 shards): 100%|██████████| 520/520 [00:00<00:00, 304997.63 examples/s]\n",
      "Generating test split: 100%|██████████| 1218/1218 [00:00<00:00, 404454.30 examples/s]\n",
      "Map: 100%|██████████| 1218/1218 [00:00<00:00, 30895.12 examples/s]\n",
      "Saving the dataset (1/1 shards): 100%|██████████| 1218/1218 [00:00<00:00, 556681.08 examples/s]\n"
     ]
    }
   ],
   "source": [
    "dataset_names = [\"gsm8k\", \"svamp\", \"mawps\", \"asdiv_a\"]\n",
    "for dataset_name in dataset_names:\n",
    "    dataset = datasets.load_dataset(f\"MU-NLPC/Calc-{dataset_name}\", \"default\")\n",
    "\n",
    "    instruction_following = \"Let's think step by step, concisely, and then output the final answer after \\\"Answer:\\\".\"\n",
    "\n",
    "    def process(example):\n",
    "        new_question = example[\"question\"].strip() + \" \" + instruction_following\n",
    "        return {\"question\": new_question, \"answer\": example[\"result\"]}\n",
    "\n",
    "    # Apply the processing function to each example in all splits (e.g., \"train\" and \"test\")\n",
    "    dataset_processed = dataset.map(process, remove_columns=dataset[list(dataset.keys())[0]\n",
    "    ].column_names)\n",
    "    dataset_processed.save_to_disk(f\"{save_dir}/{dataset_name}\")"
   ]
  },
  {
   "cell_type": "code",
   "execution_count": 3,
   "metadata": {},
   "outputs": [
    {
     "name": "stdout",
     "output_type": "stream",
     "text": [
      "\n",
      "Dataset: gsm8k\n",
      "Split: train\n",
      "  Number of examples: 7273\n",
      "  Example: {'question': 'At a recent fishing tournament, Alex caught 7 times as many fish as Jacob. Jacob did not think that he had any chance of winning, but Alex became overconfident and knocked over his bucket of fish, losing 23 fish back to the lake. If Jacob had 8 fish at the beginning, how many more fish does he need to catch to beat Alex by just 1 fish? Let\\'s think step by step, concisely, and then output the final answer after \"Answer:\".', 'answer': '26'}\n",
      "Split: validation\n",
      "  Number of examples: 200\n",
      "  Example: {'question': 'Mustafa buys a fridge, a TV and a computer with a total budget of $1600. The TV costs $600 and the fridge costs $500 more than the computer. How much does the computer cost? Let\\'s think step by step, concisely, and then output the final answer after \"Answer:\".', 'answer': '250'}\n",
      "Split: test\n",
      "  Number of examples: 1319\n",
      "  Example: {'question': 'Janet’s ducks lay 16 eggs per day. She eats three for breakfast every morning and bakes muffins for her friends every day with four. She sells the remainder at the farmers\\' market daily for $2 per fresh duck egg. How much in dollars does she make every day at the farmers\\' market? Let\\'s think step by step, concisely, and then output the final answer after \"Answer:\".', 'answer': '18'}\n",
      "\n",
      "Dataset: svamp\n",
      "Split: test\n",
      "  Number of examples: 1000\n",
      "  Example: {'question': 'Each pack of dvds costs 76 dollars. If there is a discount of 25 dollars on each pack, how much do you have to pay to buy each pack? Let\\'s think step by step, concisely, and then output the final answer after \"Answer:\".', 'answer': '51'}\n",
      "\n",
      "Dataset: mawps\n",
      "Split: train\n",
      "  Number of examples: 1089\n",
      "  Example: {'question': 'Mark had 2 Doll. Roland proffered him some more. Now Mark has 161 Doll. How many did Roland proffer him? Let\\'s think step by step, concisely, and then output the final answer after \"Answer:\".', 'answer': '159'}\n",
      "Split: validation\n",
      "  Number of examples: 1040\n",
      "  Example: {'question': 'A painter needed to paint 12 rooms in a building. Each room takes 7 hours to paint. If he already painted 5 rooms, how much longer will he take to paint the rest? Let\\'s think step by step, concisely, and then output the final answer after \"Answer:\".', 'answer': '49'}\n",
      "Split: test\n",
      "  Number of examples: 520\n",
      "  Example: {'question': 'A painter needed to paint 12 rooms in a building. Each room takes 7 hours to paint. If he already painted 5 rooms, how much longer will he take to paint the rest? Let\\'s think step by step, concisely, and then output the final answer after \"Answer:\".', 'answer': '49'}\n",
      "\n",
      "Dataset: asdiv_a\n",
      "Split: test\n",
      "  Number of examples: 1218\n",
      "  Example: {'question': 'Seven red apples and two green apples are in the basket. How many apples are in the basket? Let\\'s think step by step, concisely, and then output the final answer after \"Answer:\".', 'answer': '9'}\n"
     ]
    }
   ],
   "source": [
    "for dataset_name in dataset_names:\n",
    "    print(f\"\\nDataset: {dataset_name}\")\n",
    "    dataset = datasets.load_from_disk(f\"{save_dir}/{dataset_name}\")\n",
    "    for split_name, split in dataset.items():\n",
    "        print(f\"Split: {split_name}\")\n",
    "        print(f\"  Number of examples: {len(split)}\")\n",
    "        print(f\"  Example: {split[0]}\")"
   ]
  },
  {
   "cell_type": "code",
   "execution_count": null,
   "metadata": {},
   "outputs": [],
   "source": []
  }
 ],
 "metadata": {
  "kernelspec": {
   "display_name": "coconut-1",
   "language": "python",
   "name": "coconut-1"
  },
  "language_info": {
   "codemirror_mode": {
    "name": "ipython",
    "version": 3
   },
   "file_extension": ".py",
   "mimetype": "text/x-python",
   "name": "python",
   "nbconvert_exporter": "python",
   "pygments_lexer": "ipython3",
   "version": "3.12.9"
  }
 },
 "nbformat": 4,
 "nbformat_minor": 2
}
