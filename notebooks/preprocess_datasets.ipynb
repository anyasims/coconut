{
 "cells": [
  {
   "cell_type": "code",
   "execution_count": 1,
   "metadata": {},
   "outputs": [
    {
     "name": "stderr",
     "output_type": "stream",
     "text": [
      "/homes/80/anya/anaconda3/envs/coconut-1/lib/python3.12/site-packages/tqdm/auto.py:21: TqdmWarning: IProgress not found. Please update jupyter and ipywidgets. See https://ipywidgets.readthedocs.io/en/stable/user_install.html\n",
      "  from .autonotebook import tqdm as notebook_tqdm\n"
     ]
    }
   ],
   "source": [
    "import datasets\n",
    "\n",
    "save_dir = '/homes/80/anya/Documents/llm_tiny_ideas/coconut-outer/coconut/data/my_data'"
   ]
  },
  {
   "cell_type": "markdown",
   "metadata": {},
   "source": [
    "# Datasets with \"Answer:\""
   ]
  },
  {
   "cell_type": "code",
   "execution_count": 2,
   "metadata": {},
   "outputs": [
    {
     "name": "stderr",
     "output_type": "stream",
     "text": [
      "Map: 100%|██████████| 7273/7273 [00:00<00:00, 16090.84 examples/s]\n",
      "Map: 100%|██████████| 200/200 [00:00<00:00, 10715.20 examples/s]\n",
      "Map: 100%|██████████| 1319/1319 [00:00<00:00, 12812.36 examples/s]\n",
      "Saving the dataset (1/1 shards): 100%|██████████| 7273/7273 [00:00<00:00, 285802.90 examples/s]\n",
      "Saving the dataset (1/1 shards): 100%|██████████| 200/200 [00:00<00:00, 22229.13 examples/s]\n",
      "Saving the dataset (1/1 shards): 100%|██████████| 1319/1319 [00:00<00:00, 18817.11 examples/s]\n",
      "Map: 100%|██████████| 1000/1000 [00:00<00:00, 17409.67 examples/s]\n",
      "Saving the dataset (1/1 shards): 100%|██████████| 1000/1000 [00:00<00:00, 111961.56 examples/s]\n",
      "Map: 100%|██████████| 1089/1089 [00:00<00:00, 12396.55 examples/s]\n",
      "Map: 100%|██████████| 1040/1040 [00:00<00:00, 16782.25 examples/s]\n",
      "Map: 100%|██████████| 520/520 [00:00<00:00, 16773.60 examples/s]\n",
      "Saving the dataset (1/1 shards): 100%|██████████| 1089/1089 [00:00<00:00, 173231.58 examples/s]\n",
      "Saving the dataset (1/1 shards): 100%|██████████| 1040/1040 [00:00<00:00, 186397.58 examples/s]\n",
      "Saving the dataset (1/1 shards): 100%|██████████| 520/520 [00:00<00:00, 86057.37 examples/s]\n",
      "Map: 100%|██████████| 1218/1218 [00:00<00:00, 14488.26 examples/s]\n",
      "Saving the dataset (1/1 shards): 100%|██████████| 1218/1218 [00:00<00:00, 56952.76 examples/s]\n"
     ]
    }
   ],
   "source": [
    "dataset_names = [\"gsm8k\", \"svamp\", \"mawps\", \"asdiv_a\"]\n",
    "for dataset_name in dataset_names:\n",
    "    dataset = datasets.load_dataset(f\"MU-NLPC/Calc-{dataset_name}\", \"default\")\n",
    "\n",
    "    instruction_following = \"Let's think step by step, concisely, and then output the final answer after \\\"Answer:\\\".\"\n",
    "\n",
    "    def process(example):\n",
    "        question = example[\"question\"].strip() + \" \" + instruction_following\n",
    "        answer = example[\"result\"].replace(\" \", \"\").replace(\",\", \"\").replace(\"_\", \"\")\n",
    "        return {\"question\": question, \"answer\": answer}\n",
    "\n",
    "    # Apply the processing function to each example in all splits (e.g., \"train\" and \"test\")\n",
    "    dataset_processed = dataset.map(process, remove_columns=dataset[list(dataset.keys())[0]\n",
    "    ].column_names)\n",
    "    dataset_processed.save_to_disk(f\"{save_dir}/{dataset_name}\")"
   ]
  },
  {
   "cell_type": "code",
   "execution_count": 3,
   "metadata": {},
   "outputs": [
    {
     "name": "stdout",
     "output_type": "stream",
     "text": [
      "\n",
      "Dataset: gsm8k\n",
      "Split: train\n",
      "  Number of examples: 7273\n",
      "  Example: {'question': 'At a recent fishing tournament, Alex caught 7 times as many fish as Jacob. Jacob did not think that he had any chance of winning, but Alex became overconfident and knocked over his bucket of fish, losing 23 fish back to the lake. If Jacob had 8 fish at the beginning, how many more fish does he need to catch to beat Alex by just 1 fish? Let\\'s think step by step, concisely, and then output the final answer after \"Answer:\".', 'answer': '26'}\n",
      "Split: validation\n",
      "  Number of examples: 200\n",
      "  Example: {'question': 'Mustafa buys a fridge, a TV and a computer with a total budget of $1600. The TV costs $600 and the fridge costs $500 more than the computer. How much does the computer cost? Let\\'s think step by step, concisely, and then output the final answer after \"Answer:\".', 'answer': '250'}\n",
      "Split: test\n",
      "  Number of examples: 1319\n",
      "  Example: {'question': 'Janet’s ducks lay 16 eggs per day. She eats three for breakfast every morning and bakes muffins for her friends every day with four. She sells the remainder at the farmers\\' market daily for $2 per fresh duck egg. How much in dollars does she make every day at the farmers\\' market? Let\\'s think step by step, concisely, and then output the final answer after \"Answer:\".', 'answer': '18'}\n",
      "\n",
      "Dataset: svamp\n",
      "Split: test\n",
      "  Number of examples: 1000\n",
      "  Example: {'question': 'Each pack of dvds costs 76 dollars. If there is a discount of 25 dollars on each pack, how much do you have to pay to buy each pack? Let\\'s think step by step, concisely, and then output the final answer after \"Answer:\".', 'answer': '51'}\n",
      "\n",
      "Dataset: mawps\n",
      "Split: train\n",
      "  Number of examples: 1089\n",
      "  Example: {'question': 'Mark had 2 Doll. Roland proffered him some more. Now Mark has 161 Doll. How many did Roland proffer him? Let\\'s think step by step, concisely, and then output the final answer after \"Answer:\".', 'answer': '159'}\n",
      "Split: validation\n",
      "  Number of examples: 1040\n",
      "  Example: {'question': 'A painter needed to paint 12 rooms in a building. Each room takes 7 hours to paint. If he already painted 5 rooms, how much longer will he take to paint the rest? Let\\'s think step by step, concisely, and then output the final answer after \"Answer:\".', 'answer': '49'}\n",
      "Split: test\n",
      "  Number of examples: 520\n",
      "  Example: {'question': 'A painter needed to paint 12 rooms in a building. Each room takes 7 hours to paint. If he already painted 5 rooms, how much longer will he take to paint the rest? Let\\'s think step by step, concisely, and then output the final answer after \"Answer:\".', 'answer': '49'}\n",
      "\n",
      "Dataset: asdiv_a\n",
      "Split: test\n",
      "  Number of examples: 1218\n",
      "  Example: {'question': 'Seven red apples and two green apples are in the basket. How many apples are in the basket? Let\\'s think step by step, concisely, and then output the final answer after \"Answer:\".', 'answer': '9'}\n"
     ]
    }
   ],
   "source": [
    "for dataset_name in dataset_names:\n",
    "    print(f\"\\nDataset: {dataset_name}\")\n",
    "    dataset = datasets.load_from_disk(f\"{save_dir}/{dataset_name}\")\n",
    "    for split_name, split in dataset.items():\n",
    "        print(f\"Split: {split_name}\")\n",
    "        print(f\"  Number of examples: {len(split)}\")\n",
    "        print(f\"  Example: {split[0]}\")"
   ]
  },
  {
   "cell_type": "code",
   "execution_count": 5,
   "metadata": {},
   "outputs": [
    {
     "data": {
      "text/plain": [
       "0"
      ]
     },
     "execution_count": 5,
     "metadata": {},
     "output_type": "execute_result"
    }
   ],
   "source": [
    "dataset_name = \"svamp\"\n",
    "sum([a.isdigit() == False for a in datasets.load_from_disk(f\"{save_dir}/{dataset_name}\")[\"test\"][\"answer\"]])"
   ]
  },
  {
   "cell_type": "markdown",
   "metadata": {},
   "source": [
    "# Datasets with \"####\""
   ]
  },
  {
   "cell_type": "code",
   "execution_count": 2,
   "metadata": {},
   "outputs": [
    {
     "name": "stderr",
     "output_type": "stream",
     "text": [
      "Map: 100%|██████████| 7273/7273 [00:00<00:00, 21702.29 examples/s]\n",
      "Map: 100%|██████████| 200/200 [00:00<00:00, 14586.09 examples/s]\n",
      "Map: 100%|██████████| 1319/1319 [00:00<00:00, 23504.94 examples/s]\n",
      "Saving the dataset (1/1 shards): 100%|██████████| 7273/7273 [00:00<00:00, 375943.37 examples/s]\n",
      "Saving the dataset (1/1 shards): 100%|██████████| 200/200 [00:00<00:00, 48643.71 examples/s]\n",
      "Saving the dataset (1/1 shards): 100%|██████████| 1319/1319 [00:00<00:00, 226306.43 examples/s]\n",
      "Map: 100%|██████████| 1000/1000 [00:00<00:00, 13892.33 examples/s]\n",
      "Saving the dataset (1/1 shards): 100%|██████████| 1000/1000 [00:00<00:00, 185827.12 examples/s]\n",
      "Map: 100%|██████████| 1089/1089 [00:00<00:00, 20422.15 examples/s]\n",
      "Map: 100%|██████████| 1040/1040 [00:00<00:00, 19059.44 examples/s]\n",
      "Map: 100%|██████████| 520/520 [00:00<00:00, 18654.58 examples/s]\n",
      "Saving the dataset (1/1 shards): 100%|██████████| 1089/1089 [00:00<00:00, 72853.09 examples/s]\n",
      "Saving the dataset (1/1 shards): 100%|██████████| 1040/1040 [00:00<00:00, 150426.79 examples/s]\n",
      "Saving the dataset (1/1 shards): 100%|██████████| 520/520 [00:00<00:00, 130304.58 examples/s]\n",
      "Map: 100%|██████████| 1218/1218 [00:00<00:00, 18392.03 examples/s]\n",
      "Saving the dataset (1/1 shards): 100%|██████████| 1218/1218 [00:00<00:00, 222998.05 examples/s]\n"
     ]
    }
   ],
   "source": [
    "dataset_names = [\"gsm8k\", \"svamp\", \"mawps\", \"asdiv_a\"]\n",
    "for dataset_name in dataset_names:\n",
    "    dataset = datasets.load_dataset(f\"MU-NLPC/Calc-{dataset_name}\", \"default\")\n",
    "\n",
    "    instruction_following = \"Let's think step by step, concisely, and then output the final answer after \\\"####\\\".\"\n",
    "\n",
    "    def process(example):\n",
    "        question = example[\"question\"].strip() + \" \" + instruction_following\n",
    "        answer = example[\"result\"].replace(\" \", \"\").replace(\",\", \"\").replace(\"_\", \"\")\n",
    "        return {\"question\": question, \"answer\": answer}\n",
    "\n",
    "    # Apply the processing function to each example in all splits (e.g., \"train\" and \"test\")\n",
    "    dataset_processed = dataset.map(process, remove_columns=dataset[list(dataset.keys())[0]\n",
    "    ].column_names)\n",
    "    dataset_processed.save_to_disk(f\"{save_dir}/{dataset_name}_hash\")"
   ]
  },
  {
   "cell_type": "code",
   "execution_count": 3,
   "metadata": {},
   "outputs": [
    {
     "name": "stdout",
     "output_type": "stream",
     "text": [
      "\n",
      "Dataset: gsm8k\n",
      "Split: train\n",
      "  Number of examples: 7273\n",
      "  Example: {'question': 'At a recent fishing tournament, Alex caught 7 times as many fish as Jacob. Jacob did not think that he had any chance of winning, but Alex became overconfident and knocked over his bucket of fish, losing 23 fish back to the lake. If Jacob had 8 fish at the beginning, how many more fish does he need to catch to beat Alex by just 1 fish? Let\\'s think step by step, concisely, and then output the final answer after \"####\".', 'answer': '26'}\n",
      "Split: validation\n",
      "  Number of examples: 200\n",
      "  Example: {'question': 'Mustafa buys a fridge, a TV and a computer with a total budget of $1600. The TV costs $600 and the fridge costs $500 more than the computer. How much does the computer cost? Let\\'s think step by step, concisely, and then output the final answer after \"####\".', 'answer': '250'}\n",
      "Split: test\n",
      "  Number of examples: 1319\n",
      "  Example: {'question': 'Janet’s ducks lay 16 eggs per day. She eats three for breakfast every morning and bakes muffins for her friends every day with four. She sells the remainder at the farmers\\' market daily for $2 per fresh duck egg. How much in dollars does she make every day at the farmers\\' market? Let\\'s think step by step, concisely, and then output the final answer after \"####\".', 'answer': '18'}\n",
      "\n",
      "Dataset: svamp\n",
      "Split: test\n",
      "  Number of examples: 1000\n",
      "  Example: {'question': 'Each pack of dvds costs 76 dollars. If there is a discount of 25 dollars on each pack, how much do you have to pay to buy each pack? Let\\'s think step by step, concisely, and then output the final answer after \"####\".', 'answer': '51'}\n",
      "\n",
      "Dataset: mawps\n",
      "Split: train\n",
      "  Number of examples: 1089\n",
      "  Example: {'question': 'Mark had 2 Doll. Roland proffered him some more. Now Mark has 161 Doll. How many did Roland proffer him? Let\\'s think step by step, concisely, and then output the final answer after \"####\".', 'answer': '159'}\n",
      "Split: validation\n",
      "  Number of examples: 1040\n",
      "  Example: {'question': 'A painter needed to paint 12 rooms in a building. Each room takes 7 hours to paint. If he already painted 5 rooms, how much longer will he take to paint the rest? Let\\'s think step by step, concisely, and then output the final answer after \"####\".', 'answer': '49'}\n",
      "Split: test\n",
      "  Number of examples: 520\n",
      "  Example: {'question': 'A painter needed to paint 12 rooms in a building. Each room takes 7 hours to paint. If he already painted 5 rooms, how much longer will he take to paint the rest? Let\\'s think step by step, concisely, and then output the final answer after \"####\".', 'answer': '49'}\n",
      "\n",
      "Dataset: asdiv_a\n",
      "Split: test\n",
      "  Number of examples: 1218\n",
      "  Example: {'question': 'Seven red apples and two green apples are in the basket. How many apples are in the basket? Let\\'s think step by step, concisely, and then output the final answer after \"####\".', 'answer': '9'}\n"
     ]
    }
   ],
   "source": [
    "for dataset_name in dataset_names:\n",
    "    print(f\"\\nDataset: {dataset_name}\")\n",
    "    dataset = datasets.load_from_disk(f\"{save_dir}/{dataset_name}_hash\")\n",
    "    for split_name, split in dataset.items():\n",
    "        print(f\"Split: {split_name}\")\n",
    "        print(f\"  Number of examples: {len(split)}\")\n",
    "        print(f\"  Example: {split[0]}\")"
   ]
  },
  {
   "cell_type": "code",
   "execution_count": 4,
   "metadata": {},
   "outputs": [
    {
     "data": {
      "text/plain": [
       "0"
      ]
     },
     "execution_count": 4,
     "metadata": {},
     "output_type": "execute_result"
    }
   ],
   "source": [
    "dataset_name = \"svamp_hash\"\n",
    "sum([a.isdigit() == False for a in datasets.load_from_disk(f\"{save_dir}/{dataset_name}\")[\"test\"][\"answer\"]])"
   ]
  },
  {
   "cell_type": "code",
   "execution_count": null,
   "metadata": {},
   "outputs": [],
   "source": []
  }
 ],
 "metadata": {
  "kernelspec": {
   "display_name": "coconut-1",
   "language": "python",
   "name": "python3"
  },
  "language_info": {
   "codemirror_mode": {
    "name": "ipython",
    "version": 3
   },
   "file_extension": ".py",
   "mimetype": "text/x-python",
   "name": "python",
   "nbconvert_exporter": "python",
   "pygments_lexer": "ipython3",
   "version": "3.12.9"
  }
 },
 "nbformat": 4,
 "nbformat_minor": 2
}
