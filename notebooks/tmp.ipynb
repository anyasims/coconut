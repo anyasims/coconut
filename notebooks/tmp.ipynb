{
 "cells": [
  {
   "cell_type": "code",
   "execution_count": 5,
   "metadata": {},
   "outputs": [
    {
     "name": "stdout",
     "output_type": "stream",
     "text": [
      "The autoreload extension is already loaded. To reload it, use:\n",
      "  %reload_ext autoreload\n",
      "env: CUDA_VISIBLE_DEVICES=4,5\n"
     ]
    }
   ],
   "source": [
    "%load_ext autoreload\n",
    "%autoreload 2\n",
    "%env CUDA_VISIBLE_DEVICES=4,5"
   ]
  },
  {
   "cell_type": "code",
   "execution_count": 6,
   "metadata": {},
   "outputs": [
    {
     "name": "stdout",
     "output_type": "stream",
     "text": [
      "flair-node-08\n"
     ]
    }
   ],
   "source": [
    "import socket\n",
    "node_name = socket.gethostname()\n",
    "print(node_name)"
   ]
  },
  {
   "cell_type": "code",
   "execution_count": 7,
   "metadata": {},
   "outputs": [
    {
     "name": "stdout",
     "output_type": "stream",
     "text": [
      "GPU Number: 0\n",
      "GPU Name: NVIDIA L40S\n"
     ]
    }
   ],
   "source": [
    "import torch\n",
    "\n",
    "# Get the current GPU device id\n",
    "gpu_id = torch.cuda.current_device()\n",
    "print(\"GPU Number:\", gpu_id)\n",
    "\n",
    "# Optionally, get the name of the GPU\n",
    "gpu_name = torch.cuda.get_device_name(gpu_id)\n",
    "print(\"GPU Name:\", gpu_name)"
   ]
  },
  {
   "cell_type": "code",
   "execution_count": 9,
   "metadata": {},
   "outputs": [
    {
     "name": "stdout",
     "output_type": "stream",
     "text": [
      "CUDA_VISIBLE_DEVICES: 4,5\n"
     ]
    },
    {
     "data": {
      "text/plain": [
       "'4,5'"
      ]
     },
     "execution_count": 9,
     "metadata": {},
     "output_type": "execute_result"
    }
   ],
   "source": [
    "import os\n",
    "\n",
    "cuda_visible_devices = os.environ.get(\"CUDA_VISIBLE_DEVICES\")\n",
    "print(\"CUDA_VISIBLE_DEVICES:\", cuda_visible_devices)\n",
    "cuda_visible_devices"
   ]
  },
  {
   "cell_type": "code",
   "execution_count": null,
   "metadata": {},
   "outputs": [],
   "source": []
  },
  {
   "cell_type": "code",
   "execution_count": null,
   "metadata": {},
   "outputs": [],
   "source": []
  },
  {
   "cell_type": "code",
   "execution_count": null,
   "metadata": {},
   "outputs": [],
   "source": []
  }
 ],
 "metadata": {
  "kernelspec": {
   "display_name": "coconut-1",
   "language": "python",
   "name": "python3"
  },
  "language_info": {
   "codemirror_mode": {
    "name": "ipython",
    "version": 3
   },
   "file_extension": ".py",
   "mimetype": "text/x-python",
   "name": "python",
   "nbconvert_exporter": "python",
   "pygments_lexer": "ipython3",
   "version": "3.12.9"
  }
 },
 "nbformat": 4,
 "nbformat_minor": 2
}
